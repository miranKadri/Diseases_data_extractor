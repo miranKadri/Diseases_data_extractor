{
 "cells": [
  {
   "cell_type": "code",
   "execution_count": 1,
   "metadata": {
    "collapsed": true
   },
   "outputs": [],
   "source": [
    "from selenium import webdriver\n",
    "from selenium.webdriver.support.ui import WebDriverWait\n",
    "from selenium.webdriver.common.by import By\n",
    "from selenium.webdriver.support import expected_conditions as EC\n",
    "\n",
    "import warnings\n",
    "warnings.filterwarnings(\"ignore\")"
   ]
  },
  {
   "cell_type": "code",
   "execution_count": 2,
   "metadata": {
    "collapsed": false
   },
   "outputs": [
    {
     "name": "stdout",
     "output_type": "stream",
     "text": [
      "262\n",
      "262\n"
     ]
    }
   ],
   "source": [
    "driver = webdriver.Chrome(executable_path=r\"chromedriver.exe\")\n",
    "driver.get(\"https://www.hopkinsmedicine.org/johns-hopkins-childrens-center/what-we-treat/conditions/\")\n",
    "\n",
    "MainDiv = driver.find_element(\"xpath\",'//*[@id=\"wrapper-canvas\"]/div/div/div[3]/div[3]/div[2]')\n",
    "links = MainDiv.find_elements(\"tag name\",\"a\")\n",
    "\n",
    "LinkList = []\n",
    "DiseaseList = []\n",
    "for i in links:\n",
    "    if i.get_attribute(\"href\") is not None:\n",
    "        LinkList.append(i.get_attribute(\"href\"))\n",
    "        DiseaseList.append(i.text)\n",
    "\n",
    "print(len(LinkList))\n",
    "print(len(DiseaseList))"
   ]
  },
  {
   "cell_type": "code",
   "execution_count": 3,
   "metadata": {
    "collapsed": false
   },
   "outputs": [
    {
     "name": "stdout",
     "output_type": "stream",
     "text": [
      "0 1 2 3 4 5 6 7 8 9 10 11 12 13 14 15 16 17 18 19 20 21 22 23 24 25 26 27 28 29 30 31 32 33 34 35 36 37 38 39 40 41 42 43 44 45 46 47 48 49 50 51 52 53 54 55 56 57 58 59 60 61 62 63 64 65 66 67 68 69 70 71 72 73 74 75 76 77 * 78 79 80 81 82 83 84 85 86 87 88 89 90 91 92 93 94 95 96 97 98 99 100 101 102 103 104 105 106 107 108 109 110 111 112 113 114 115 116 117 118 119 120 121 122 123 124 125 126 127 128 129 130 131 132 133 134 135 136 137 138 139 140 141 142 143 144 145 146 147 148 149 150 151 152 153 154 155 156 157 158 159 160 161 162 163 164 165 166 167 168 169 170 171 172 173 174 175 176 177 178 179 180 181 182 183 184 185 186 187 188 189 190 191 192 193 194 195 196 197 198 199 200 201 202 203 204 205 206 207 208 209 210 211 212 213 214 215 216 217 218 219 220 221 222 223 224 225 226 227 228 229 230 231 232 233 234 235 236 237 238 239 240 241 242 243 244 245 246 247 248 249 250 251 252 253 254 255 256 257 258 259 260 261 "
     ]
    }
   ],
   "source": [
    "DiseaseNameList = []\n",
    "DiseaseDescriptionList = []\n",
    "\n",
    "for i in range(len(LinkList)):\n",
    "    print(i, end=\" \")\n",
    "    driver.execute_script(\"window.open('');\")\n",
    "    driver.switch_to.window(driver.window_handles[-1])\n",
    "    driver.get(LinkList[i])\n",
    "    WebDriverWait(driver, 100).until(EC.presence_of_element_located((By.CLASS_NAME, 'button-logo-svg')))\n",
    "\n",
    "    try:\n",
    "        Data = driver.find_element(\"xpath\",'//*[@id=\"skip\"]/div/div[1]/article/div')\n",
    "        DiseaseNameList.append(DiseaseList[i])\n",
    "        DiseaseDescriptionList.append(Data.text)\n",
    "    except:\n",
    "        try:\n",
    "            Data = driver.find_element(\"xpath\",'//*[@id=\"body-inner\"]/main/article/div')\n",
    "            DiseaseNameList.append(DiseaseList[i])\n",
    "            DiseaseDescriptionList.append(Data.text)\n",
    "        except:\n",
    "            print(\"*\", end=\" \")\n",
    "\n",
    "    driver.close()\n",
    "    driver.switch_to.window(driver.window_handles[0])\n",
    "\n",
    "import pandas as pd\n",
    "df = pd.DataFrame({'DiseaseName': DiseaseNameList, 'DiseaseDescription': DiseaseDescriptionList})\n",
    "df.to_csv('DiseaseList1.csv', index=False, encoding='utf-8')"
   ]
  },
  {
   "cell_type": "code",
   "execution_count": 4,
   "metadata": {
    "collapsed": false
   },
   "outputs": [
    {
     "data": {
      "text/html": [
       "<div>\n",
       "<style scoped>\n",
       "    .dataframe tbody tr th:only-of-type {\n",
       "        vertical-align: middle;\n",
       "    }\n",
       "\n",
       "    .dataframe tbody tr th {\n",
       "        vertical-align: top;\n",
       "    }\n",
       "\n",
       "    .dataframe thead th {\n",
       "        text-align: right;\n",
       "    }\n",
       "</style>\n",
       "<table border=\"1\" class=\"dataframe\">\n",
       "  <thead>\n",
       "    <tr style=\"text-align: right;\">\n",
       "      <th></th>\n",
       "      <th>DiseaseName</th>\n",
       "      <th>DiseaseDescription</th>\n",
       "    </tr>\n",
       "  </thead>\n",
       "  <tbody>\n",
       "    <tr>\n",
       "      <th>0</th>\n",
       "      <td>Abdominal pain</td>\n",
       "      <td>What is abdominal pain?\\nAbdominal pain is any...</td>\n",
       "    </tr>\n",
       "    <tr>\n",
       "      <th>1</th>\n",
       "      <td>ACL injury</td>\n",
       "      <td>WHAT YOU NEED TO KNOW\\nACL injuries are more c...</td>\n",
       "    </tr>\n",
       "    <tr>\n",
       "      <th>2</th>\n",
       "      <td>Acne</td>\n",
       "      <td>What is acne?\\nAcne is a disorder of the hair ...</td>\n",
       "    </tr>\n",
       "    <tr>\n",
       "      <th>3</th>\n",
       "      <td>Acute liver failure</td>\n",
       "      <td>Acute Liver Failure\\nThis alarming syndrome us...</td>\n",
       "    </tr>\n",
       "    <tr>\n",
       "      <th>4</th>\n",
       "      <td>Achondroplasia</td>\n",
       "      <td>WHAT YOU NEED TO KNOW\\nAchondroplasia is the m...</td>\n",
       "    </tr>\n",
       "  </tbody>\n",
       "</table>\n",
       "</div>"
      ],
      "text/plain": [
       "           DiseaseName                                 DiseaseDescription\n",
       "0       Abdominal pain  What is abdominal pain?\\nAbdominal pain is any...\n",
       "1           ACL injury  WHAT YOU NEED TO KNOW\\nACL injuries are more c...\n",
       "2                 Acne  What is acne?\\nAcne is a disorder of the hair ...\n",
       "3  Acute liver failure  Acute Liver Failure\\nThis alarming syndrome us...\n",
       "4       Achondroplasia  WHAT YOU NEED TO KNOW\\nAchondroplasia is the m..."
      ]
     },
     "execution_count": 4,
     "metadata": {},
     "output_type": "execute_result"
    }
   ],
   "source": [
    "import pandas as pd\n",
    "df = pd.read_csv(\"DiseaseList1.csv\")\n",
    "df.head()"
   ]
  },
  {
   "cell_type": "code",
   "execution_count": 5,
   "metadata": {
    "collapsed": false
   },
   "outputs": [],
   "source": []
  },
  {
   "cell_type": "code",
   "execution_count": null,
   "metadata": {
    "collapsed": false
   },
   "outputs": [],
   "source": []
  }
 ],
 "metadata": {
  "kernelspec": {
   "display_name": "Python 3",
   "language": "python",
   "name": "python3"
  },
  "language_info": {
   "codemirror_mode": {
    "name": "ipython",
    "version": 2
   },
   "file_extension": ".py",
   "mimetype": "text/x-python",
   "name": "python",
   "nbconvert_exporter": "python",
   "pygments_lexer": "ipython2",
   "version": "3.7.8"
  },
  "vscode": {
   "interpreter": {
    "hash": "7b416c2d66c1a5137cd62d6d13406ca3791127b98c2ab7751c9f9871dab6492b"
   }
  }
 },
 "nbformat": 4,
 "nbformat_minor": 0
}
