{
 "cells": [
  {
   "cell_type": "code",
   "execution_count": 1,
   "metadata": {},
   "outputs": [],
   "source": [
    "from selenium import webdriver\n",
    "from selenium.webdriver.support.ui import WebDriverWait\n",
    "from selenium.webdriver.common.by import By\n",
    "from selenium.webdriver.support import expected_conditions as EC\n",
    "import re\n",
    "import json\n",
    "import warnings\n",
    "warnings.filterwarnings(\"ignore\")"
   ]
  },
  {
   "cell_type": "code",
   "execution_count": 2,
   "metadata": {},
   "outputs": [],
   "source": [
    "driver = webdriver.Chrome(executable_path=r\"chromedriver.exe\")\n",
    "base_link = 'https://www.drugs.com/health-guide/'\n",
    "driver.get(base_link)"
   ]
  },
  {
   "cell_type": "code",
   "execution_count": 3,
   "metadata": {},
   "outputs": [
    {
     "name": "stdout",
     "output_type": "stream",
     "text": [
      "['abdominal-adhesions', 'abdominal-aortic-aneurysm', 'abdominal-ultrasound', 'achalasia', 'acne', 'acoustic-neuroma', 'acupuncture', 'acute-bronchitis', 'acute-pancreatitis', 'acute-prostatitis', 'acute-sinusitis', 'adenocarcinoma-of-the-lung', 'adrenocortical-carcinoma', 'aging', 'alcohol-withdrawal', 'allergy', 'alopecia-areata', 'altitude-sickness', \"alzheimer's-disease\", 'amenorrhea', 'amniocentesis', 'amyloidosis', 'anal-cancer', 'anal-disorders', 'anaphylaxis', 'anemia', 'angina', 'angioplasty', 'ankle-fracture', 'ankle-sprain', 'ankylosing-spondylitis', 'anorexia-nervosa', 'anoscopy', 'antibiotic-associated-diarrhea', 'antiphospholipid-antibody-syndrome', 'antisocial-personality-disorder', 'aplastic-anemia', 'appendicitis', 'arm-fracture', 'arthritis-associated-with-inflammatory-bowel-disease', 'arthroscopic-surgery', 'asthma', 'astigmatism', 'asymptomatic-bacteriuria', 'atherosclerosis', 'atrial-fibrillation', 'back-pain', 'balanitis', 'barium-enema', 'barotrauma', \"bartholin's-gland-cyst\", 'basal-cell-carcinoma', \"behcet's-disease\", \"bell's-palsy\", 'bile-duct-diseases', 'biliary-colic', 'biofeedback', 'biopsy', 'biopsy-of-the-prostate-and-transrectal-ultrasound', 'black-eye', 'bladder-cancer', 'blepharitis', 'blisters', 'blood-testing', 'body-lice', 'boils-and-carbuncles', 'bone-density-test', 'bone-marrow-biopsy', 'bone-marrow-transplant', 'bone-scan', 'borderline-personality-disorder', 'botulism', 'bowel-obstruction', 'bradycardia', 'brain-abscess', 'brain-tumor', 'breast-cancer', 'breast-ultrasound', 'broken-jaw', 'bronchoscopy', 'bulimia', 'bunion', 'bursitis', 'caesarean-section', 'campylobacteriosis', 'cancer', 'candidiasis', 'carbon-monoxide-poisoning', 'carcinoid-tumors-of-the-lung', 'cardiac-arrhythmias', 'cardiac-catheterization', 'cardiomyopathy', 'carpal-tunnel-syndrome', 'cataracts', 'cellulitis', 'cerebral-palsy', 'cervical-cancer', 'cervical-polyps', 'cervicitis', 'chemical-injury-to-the-eye', 'chemotherapy', 'chest-x-ray', 'chlamydia', 'cholecystectomy', 'cholecystitis', 'chondromalacia-patella', 'chondrosarcoma', 'chorionic-villus-sampling', 'choroidal-melanoma', 'chronic-hepatitis', 'chronic-laryngitis', 'chronic-otitis-media,-cholesteatoma-and-mastoiditis', 'chronic-pancreatitis', 'chronic-prostatitis', 'cirrhosis', 'cluster-headache', \"cogan's-syndrome\", 'colon-polyps', 'colonoscopy', 'colorectal-cancer', 'colposcopy', 'colposcopy-and-cervical-biopsy', 'coma-and-persistent-vegetative-state', 'concussion', 'constipation-and-impaction', 'contact-dermatitis', 'corneal-abrasion', 'corneal-transplant', 'corns-and-calluses', 'coronary-artery-bypass-surgery', 'coronary-artery-disease', \"crohn's-disease\", 'croup', 'cystic-fibrosis', 'cystoscopy', 'cystourethrogram', 'cysts', 'dandruff', 'decompression-sickness', 'delusional-disorder', 'dementia', 'depression', 'dermatofibroma', 'detached-retina', 'developmental-dysplasia-of-the-hip', 'deviated-septum', 'diabetes-mellitus', 'diabetic-ketoacidosis', 'diabetic-nephropathy', 'diabetic-neuropathies', 'diarrhea', 'digital-rectal-exam', 'dislocated-lens', 'diverticulosis-and-diverticulitis', 'down-syndrome', 'dry-eye-syndrome', 'dry-skin', 'dysfunctional-uterine-bleeding', 'dyslexia', 'dysthymia', 'dysuria', 'earache', 'echocardiogram', 'eczema', 'edema', 'electromyography', 'electrophysiological-testing-of-the-heart', 'emphysema', 'encephalitis', 'end-stage-renal-disease', 'endocarditis', 'endometrial-biopsy', 'endometriosis', 'endophthalmitis', 'endoscopy', 'epidemic-pleurodynia', 'epidermoid-cyst', 'epididymitis-and-orchitis', 'epiglottitis', 'epilepsy', 'esophageal-cancer', 'esophageal-rings-and-webs', 'esophageal-varices', 'esophagitis', 'essential-tremor', \"ewing's-sarcoma\", 'excisional-biopsy-of-the-breast', 'extragonadal-germ-cell-tumors', 'fallen-arch', 'fallopian-tube-cancer', 'familial-dysautonomia', 'febrile-seizures', 'fecal-incontinence', 'fecal-occult-blood-test', 'felon', 'female-infertility', 'fetal-ultrasound', 'fever', 'fibroids', 'fibromyalgia', 'finger-dislocation', 'food-allergy', 'food-poisoning', 'foot-sprain', 'foot-ulcers', 'foot-x-ray', 'foreign-body-in-eye', 'foreign-objects-in-the-ear', 'fragile-x-syndrome', 'friction-blisters', \"friedreich's-ataxia\", 'frostbite', 'gallbladder-and-bile-duct-cancer', 'gallstones', 'gastritis', 'gastroenteritis-in-adults', 'gastroenteritis-in-children', 'gastrointestinal-amebiasis', 'gaucher-disease', 'generalized-anxiety-disorder', 'genital-herpes', 'genital-warts', 'gestational-diabetes', 'giardiasis', 'glaucoma', 'glioblastoma-multiforme', 'glomerulonephritis', 'gonorrhea', 'gout', 'granulomatosis-with-polyangiitis', \"graves'-disease\", 'guillain-barre-syndrome', 'hair-loss', 'hammertoe', 'head-and-neck-cancer', 'head-injury-in-adults', 'head-injury-in-children', 'head-lice', 'headache', 'hearing-loss-in-adults', 'hearing-loss-in-children', 'heart-failure', 'heart-murmur', 'heart-transplant', 'heart-valve-problems', 'heart-valve-replacement', 'heart-lung-transplant', 'heel-pain', 'hematuria', 'hemochromatosis', 'hemophilia', 'hemorrhagic-stroke', 'hemorrhoids', 'hepatitis', 'hepatitis-a', 'hepatitis-b', 'hepatitis-c', 'hereditary-patterned-baldness', 'hernia', 'hernia-repair', 'herniated-disk', 'hiatal-hernia', 'hip-fracture', 'hirsutism', 'hiv/aids', 'hodgkin-lymphoma', 'holter-monitor-and-event-monitor', 'hot-flashes', 'hydrocephalus', 'hyperkeratosis', 'hyperthyroidism', 'hypoglycemia', 'hypoparathyroidism', 'hypothyroidism', 'hysterectomy', 'hysterosalpingogram', 'hysteroscopy', 'ichthyosis', 'illness-anxiety-disorder', 'immunotherapy', 'impetigo', 'infectious-arthritis', 'infectious-mononucleosis', 'ingrown-toenail', 'inguinal-hernia', 'insomnia', 'interstitial-cystitis', 'intracranial-aneurysms', 'iron-deficiency', 'jet-lag', 'juvenile-arthritis', \"kaposi's-sarcoma\", 'kawasaki-syndrome', 'keloids', 'keratitis', 'kidney-cancer', 'kidney-failure', 'kidney-stones', 'kidney-transplant', 'knee-sprain', 'lactose-intolerance', 'lacunar-stroke', 'large-core-needle-biopsy-of-the-breast', 'laryngitis', 'lasik', 'latex-allergy', 'lead-poisoning', 'leg-fracture', 'leg-strain', 'leukemia', 'liver-biopsy', 'liver-cancer', 'long-qt-syndrome', 'lung-cancer', 'lung-transplant', 'lyme-disease', 'lymphedema', 'lymphoma', 'macular-degeneration', 'major-depression', 'malaria', 'male-infertility', 'malignant-hyperthermia', 'mammography', 'marfan-syndrome', \"meckel's-diverticulum\", 'mediastinoscopy', 'medication-allergy', 'melanoma', \"meniere's-disease\", 'meningitis', 'menopause-and-perimenopause', 'mesothelioma', 'metastatic-brain-tumors', 'migraine', 'miscarriage', 'mitral-valve-prolapse', 'molar-pregnancy', 'molluscum-contagiosum', \"morton's-neuroma\", 'mrsa-skin-infection', 'multiple-myeloma', 'multiple-sclerosis', 'mumps', 'muscle-strain', 'muscular-dystrophy', 'myalgic-encephalomyelitis-/-chronic-fatigue-syndrome', 'myasthenia-gravis', 'myelodysplastic-syndromes', 'myocarditis', 'myositis', 'nabothian-cysts', 'nail-trauma', 'narcolepsy', 'nasal-polyps', 'nausea', 'nephrectomy', 'neuroblastoma', 'neurofibromatosis', 'non-hodgkin-lymphoma', 'non-small-cell-lung-cancer', 'obesity', 'onycholysis', 'oral-cancer', 'osgood-schlatter-disease', 'osteoarthritis', 'osteoporosis', 'osteosarcoma', 'ovarian-cancer', 'oxygen-saturation-test', 'pacemaker', \"paget's-disease-of-bone\", 'pain', 'pancreatic-cancer', 'pancreatitis', 'panic-disorders', 'parathyroid-cancer', \"parkinson's-disease\", 'paronychia', 'pelvic-ultrasound-and-transvaginal-ultrasound', 'peptic-ulcer', 'perforated-eardrum', 'pericarditis', 'peripheral-arterial-disease', 'peritonsillar-abscess', 'phimosis-and-paraphimosis', 'phobia', 'pituitary-tumors', 'pityriasis-rosea', 'plantar-fasciitis', 'pleurisy-and-pleural-effusion', 'pneumoconiosis', 'pneumonectomy', 'pneumonia', 'pneumothorax', 'polio', 'polyarteritis-nodosa', 'polychondritis', 'polycystic-kidney-disease', 'polycystic-ovary-syndrome', 'polymyalgia-rheumatica', 'post-polio-syndrome', 'post-traumatic-stress-disorder', 'postpartum-depression', 'pre-diabetes', 'preeclampsia-and-eclampsia', 'premature-ejaculation', 'presbyopia', 'priapism', 'prostate-cancer', 'psoriasis', 'psoriatic-arthritis', 'pubic-lice-or-crab-lice', 'pulmonary-function-testing', 'pyelonephritis', 'radiation-therapy', 'radionuclide-scanning', 'rapid-strep-test', 'rash', \"raynaud's-phenomenon\", 'reactive-arthritis', 'rectocele', 'respiratory-syncytial-virus', 'restless-legs-syndrome', 'retinal-vessel-occlusion', 'retinitis-pigmentosa', 'retinoblastoma', 'retinopathy', 'retrobulbar-neuritis', 'retrograde-ejaculation', 'reye-syndrome', 'rhabdomyosarcoma', 'rheumatoid-arthritis', 'rocky-mountain-spotted-fever', 'rosacea', 'rotator-cuff-injury', 'salivary-gland-disorders', 'sarcoidosis', 'scabies', 'scarlet-fever', 'schizophrenia', 'schizotypal-personality-disorder', 'sciatica', 'scleritis', 'scleroderma', 'scoliosis', 'scratch-test-for-allergies', 'sebaceous-cysts', 'seborrheic-dermatitis', 'seborrheic-keratoses', 'secondary-hypertension', 'sedative,-hypnotic-or-anxiolytic-drug-use-disorder', 'seizure', 'sexually-transmitted-diseases', 'shigellosis', 'shin-splints', 'shoulder-dislocation', 'shoulder-sprain', 'sick-sinus-syndrome', 'sickle-cell-anemia', 'sigmoidoscopy', \"sjogren's-syndrome\", 'skin-biopsy', 'sleep-apnea', 'sleepwalking-and-sleep-terrors', 'small-cell-lung-cancer', 'smallpox', 'snellen-test-for-visual-acuity', 'soft-tissue-sarcoma', 'somatic-symptom-disorder', 'spider-veins', 'spina-bifida', 'spinal-cord-trauma', 'spinal-cord-tumors', 'sprain', 'squamous-cell-carcinoma-of-the-lung', 'squamous-cell-carcinoma-of-the-skin', 'stereotactic-biopsy-of-the-breast', 'stomach-cancer', 'stroke', 'stuttering', 'styes-and-chalazions', 'subarachnoid-hemorrhage', 'subdural-hematoma', 'sun-damaged-skin', 'superficial-thrombophlebitis', 'sutures', 'swallowed-object', 'syphilis', 'tachycardia', \"takayasu's-arteritis\", 'tay-sachs-disease', 'telogen-effluvium', 'tendonitis', 'tension-headache', 'testicular-cancer', 'testicular-torsion', 'tetanus', 'throat-culture', 'thrombocytopenia', 'thrombotic-stroke', 'thyroid-cancer', 'thyroidectomy', 'tick-bites', 'tics', 'tinea-versicolor', 'tinnitus', 'tonometry', 'torn-meniscus', 'torsional-deformity', 'tourette-syndrome', 'toxic-shock-syndrome', 'toxoplasmosis', 'traumatic-dislocation-of-the-hip', \"traveler's-diarrhea\", 'trichomoniasis', 'tropical-sprue', 'tuberculosis', 'type-1-diabetes-mellitus', 'type-2-diabetes-mellitus', 'ulcerative-colitis', 'ultrasound', 'undescended-testicle', 'urethritis', 'urinalysis', 'urinary-catheterization', 'urinary-health', 'urinary-incontinence', 'urinary-tract-infection-in-men', 'urinary-tract-infection-in-women', 'uterine-and-bladder-prolapse', 'uterine-cancer', 'uveitis', 'vaginal-cancer', 'vaginal-discharge', 'vaginal-yeast-infection', 'vaginitis', 'varicose-veins', 'vascular-birthmarks', 'vasculitis', 'vasectomy', 'ventilation-perfusion-scan-or-v-q-scan', 'vertigo', 'video-assisted-thoracic-surgery', 'vitamin-b12-deficiency', 'vitiligo', 'vocal-cord-disorders', 'vulvar-cancer', 'waldenström-macroglobulinemia', 'waldenstrom-macroglobulinemia', 'warts', 'wax-blockage-of-the-ear-canal', \"wilms'-tumor\", 'wire-localization-biopsy-of-the-breast', 'wrist-sprain', 'x-rays', 'yaws']\n"
     ]
    }
   ],
   "source": [
    "names = driver.find_element_by_xpath('//*[@id=\"a-to-z\"]/div[1]').text\n",
    "nlist = []\n",
    "for i in (''.join(names).split('\\n')):\n",
    "    if len(i) == 1:\n",
    "        continue\n",
    "    if '(' in i or ')' in i:\n",
    "        continue\n",
    "    else:\n",
    "        # remove text within parentheses and convert to lowercase\n",
    "        i = re.sub(r'(\\([^)]*\\))', '', i).strip().lower()\n",
    "        # join words with dashes and add to nlist\n",
    "        formatted_n = '-'.join(i.split())\n",
    "        nlist.append(formatted_n)\n",
    "print(nlist)     \n"
   ]
  },
  {
   "cell_type": "code",
   "execution_count": 7,
   "metadata": {},
   "outputs": [
    {
     "name": "stdout",
     "output_type": "stream",
     "text": [
      "abdominal-adhesions\n",
      "['severe, crampy abdominal pain', 'nausea and vomiting', 'swelling of the abdomen ', 'inability to pass gas and absent or infrequent bowel movements', 'signs of dehydration, including dry skin, dry mouth and tongue, severe thirst, infrequent urination, fast heart rate and low blood pressure']\n",
      "abdominal-aortic-aneurysm\n",
      "['pain in the:', 'abdomen', 'back', 'fleshy part of the sides, between the bottom of the ribs and hips', 'a feeling of fullness after eating a small meal', 'nausea and vomiting', 'a pulsating mass in the abdomen']\n",
      "abdominal-ultrasound\n",
      "['abdominal aorta and other blood vessels in the abdomen', 'bladder', 'gallbladder', 'kidneys', 'liver', 'pancreas', 'spleen']\n",
      "achalasia\n",
      "['difficulty swallowing solid food. swallowing liquids is not affected in the early stages.', 'regurgitation or vomiting of undigested food', 'chest pain, discomfort, or fullness under the breastbone, especially following meals', 'difficulty belching', 'difficulty swallowing solids and liquids ', 'weight loss']\n",
      "acne\n",
      "['oily cosmetics ', 'humidity ', 'heavy sweating ', 'problems with the ovaries or adrenal glands ', 'drugs such as: ', 'lithium  ', 'steroids, both prescription steroids and potentially harmful \"body-building\" steroids']\n",
      "[{'symptom': ['severe, crampy abdominal pain', 'nausea and vomiting', 'swelling of the abdomen ', 'inability to pass gas and absent or infrequent bowel movements', 'signs of dehydration, including dry skin, dry mouth and tongue, severe thirst, infrequent urination, fast heart rate and low blood pressure'], 'disease': 'abdominal-adhesions', 'treatment_drugs': '', 'diagnosis': 'Your doctor will examine you, paying special attention to your abdomen. He or she also will examine your rectum. If you are a woman, your doctor will do a pelvic exam. To find further evidence for the diagnosis, your doctor will order blood tests and X-rays of your chest and abdomen and often an abdominal CT scan. In some people with suspected intestinal obstruction or strangulation, the diagnosis can be confirmed only at the time of abdominal surgery.'}, {'symptom': ['pain in the:', 'abdomen', 'back', 'fleshy part of the sides, between the bottom of the ribs and hips', 'a feeling of fullness after eating a small meal', 'nausea and vomiting', 'a pulsating mass in the abdomen'], 'disease': 'abdominal-aortic-aneurysm', 'treatment_drugs': ['Monitor your blood sugar frequently', 'Follow a healthy diet', 'Keep your blood pressure in the normal range', 'Aim for an LDL cholesterol less than 100 mg/dL, using medication if necessary'], 'diagnosis': 'Diagnosis'}, {'symptom': ['abdominal aorta and other blood vessels in the abdomen', 'bladder', 'gallbladder', 'kidneys', 'liver', 'pancreas', 'spleen'], 'disease': 'abdominal-ultrasound', 'treatment_drugs': '', 'diagnosis': 'If your doctor performs the ultrasound, you may get preliminary results immediately. In many cases, though, the test is performed by a technician who won’t be able to provide any results. In either case, the test is recorded on videotape or digital disc so that it can be reviewed later by a radiologist. Your doctor should have the radiologist’s report in one to four days, and can provide you with complete results then.'}, {'symptom': ['difficulty swallowing solid food. swallowing liquids is not affected in the early stages.', 'regurgitation or vomiting of undigested food', 'chest pain, discomfort, or fullness under the breastbone, especially following meals', 'difficulty belching', 'difficulty swallowing solids and liquids ', 'weight loss'], 'disease': 'achalasia', 'treatment_drugs': ['Manometry. Manometry is a key test in diagnosing achalasia. A thin tube will be passed through your nose into your stomach. Pressure in your esophagus and at the sphincter will be recorded while you drink sips of water . The tube will be slowly withdrawn. The pattern of pressure measurements can indicate whether a person has achalasia.'], 'diagnosis': 'Tests will be done to diagnose achalasia. These tests will also look for other conditions that could be causing the symptoms.'}, {'symptom': ['oily cosmetics ', 'humidity ', 'heavy sweating ', 'problems with the ovaries or adrenal glands ', 'drugs such as: ', 'lithium  ', 'steroids, both prescription steroids and potentially harmful \"body-building\" steroids'], 'disease': 'acne', 'treatment_drugs': ['Nodules and cysts. These are larger infections of the hair follicles. They extend deeper into the skin, forming firm, deep bumps and swellings. Like pimples, they are caused by increased sebum production and bacterial growth, which cause irritation and redness.  '], 'diagnosis': 'Acne flare-ups may occur at any time after puberty. They are more common during the teen years.'}]\n"
     ]
    }
   ],
   "source": [
    "data = []\n",
    "for disease_name in nlist[:5]:\n",
    "    dd = {}\n",
    "    try:\n",
    "        driver.get(base_link + disease_name + '.html')\n",
    "    except:  \n",
    "        pass\n",
    "    try:    \n",
    "        symp = driver.find_element_by_xpath('//*[@id=\"content\"]/div/ul').text \n",
    "        # symp = symp.replace(': ', ':')\n",
    "        symp = re.sub(r'\\([^:)]*\\)', '', ''.join(symp)).strip().lower()\n",
    "        symp = ''.join(symp).split('\\n')\n",
    "    except:  \n",
    "        symp = ''    \n",
    "        \n",
    "    # trtmnt = driver.find_element_xpath('//*[@id=\"content\"]/div/p[15]/text()').text\n",
    "    print(disease_name)\n",
    "    print(symp)\n",
    "    dd['symptom'] = symp\n",
    "    \n",
    "    dd['disease'] = disease_name\n",
    "    try:\n",
    "        dd['treatment_drugs'] = driver.find_element_by_xpath('//*[@id=\"content\"]/div[2]/ul[4]').text.split('\\n') # for getting information on treatements for the disease.\n",
    "    except:  \n",
    "        dd['treatment_drugs'] = ''\n",
    "\n",
    "    try:    \n",
    "        dd['diagnosis'] = driver.find_element_by_xpath('//*[@id=\"content\"]/div/p[12]').text\n",
    "    except: \n",
    "        dd['diagnosis'] = ''    \n",
    "        # dd['treatment'] = trtmnt\n",
    "    data.append(dd)\n",
    "   \n",
    "         \n",
    "       \n",
    "print(data)       \n"
   ]
  },
  {
   "cell_type": "code",
   "execution_count": 8,
   "metadata": {},
   "outputs": [
    {
     "name": "stdout",
     "output_type": "stream",
     "text": [
      "[{'symptom': ['severe, crampy abdominal pain', 'nausea and vomiting', 'swelling of the abdomen ', 'inability to pass gas and absent or infrequent bowel movements', 'signs of dehydration, including dry skin, dry mouth and tongue, severe thirst, infrequent urination, fast heart rate and low blood pressure'], 'disease': 'abdominal-adhesions', 'treatment_drugs': '', 'diagnosis': 'Your doctor will examine you, paying special attention to your abdomen. He or she also will examine your rectum. If you are a woman, your doctor will do a pelvic exam. To find further evidence for the diagnosis, your doctor will order blood tests and X-rays of your chest and abdomen and often an abdominal CT scan. In some people with suspected intestinal obstruction or strangulation, the diagnosis can be confirmed only at the time of abdominal surgery.'}, {'symptom': ['pain in the:', 'abdomen', 'back', 'fleshy part of the sides, between the bottom of the ribs and hips', 'a feeling of fullness after eating a small meal', 'nausea and vomiting', 'a pulsating mass in the abdomen'], 'disease': 'abdominal-aortic-aneurysm', 'treatment_drugs': ['Monitor your blood sugar frequently', 'Follow a healthy diet', 'Keep your blood pressure in the normal range', 'Aim for an LDL cholesterol less than 100 mg/dL, using medication if necessary'], 'diagnosis': 'Diagnosis'}, {'symptom': ['abdominal aorta and other blood vessels in the abdomen', 'bladder', 'gallbladder', 'kidneys', 'liver', 'pancreas', 'spleen'], 'disease': 'abdominal-ultrasound', 'treatment_drugs': '', 'diagnosis': 'If your doctor performs the ultrasound, you may get preliminary results immediately. In many cases, though, the test is performed by a technician who won’t be able to provide any results. In either case, the test is recorded on videotape or digital disc so that it can be reviewed later by a radiologist. Your doctor should have the radiologist’s report in one to four days, and can provide you with complete results then.'}, {'symptom': ['difficulty swallowing solid food. swallowing liquids is not affected in the early stages.', 'regurgitation or vomiting of undigested food', 'chest pain, discomfort, or fullness under the breastbone, especially following meals', 'difficulty belching', 'difficulty swallowing solids and liquids ', 'weight loss'], 'disease': 'achalasia', 'treatment_drugs': ['Manometry. Manometry is a key test in diagnosing achalasia. A thin tube will be passed through your nose into your stomach. Pressure in your esophagus and at the sphincter will be recorded while you drink sips of water . The tube will be slowly withdrawn. The pattern of pressure measurements can indicate whether a person has achalasia.'], 'diagnosis': 'Tests will be done to diagnose achalasia. These tests will also look for other conditions that could be causing the symptoms.'}, {'symptom': ['oily cosmetics ', 'humidity ', 'heavy sweating ', 'problems with the ovaries or adrenal glands ', 'drugs such as: ', 'lithium  ', 'steroids, both prescription steroids and potentially harmful \"body-building\" steroids'], 'disease': 'acne', 'treatment_drugs': ['Nodules and cysts. These are larger infections of the hair follicles. They extend deeper into the skin, forming firm, deep bumps and swellings. Like pimples, they are caused by increased sebum production and bacterial growth, which cause irritation and redness.  '], 'diagnosis': 'Acne flare-ups may occur at any time after puberty. They are more common during the teen years.'}]\n"
     ]
    }
   ],
   "source": [
    "print(data)"
   ]
  },
  {
   "cell_type": "code",
   "execution_count": 43,
   "metadata": {},
   "outputs": [],
   "source": [
    "jd = json.dumps(data)"
   ]
  },
  {
   "cell_type": "code",
   "execution_count": 44,
   "metadata": {},
   "outputs": [],
   "source": [
    "with open('my_json_file.json', 'w') as f:\n",
    "    # dump the dictionary object to the file\n",
    "    json.dump(data, f)"
   ]
  },
  {
   "cell_type": "code",
   "execution_count": null,
   "metadata": {},
   "outputs": [],
   "source": []
  }
 ],
 "metadata": {
  "kernelspec": {
   "display_name": "Python 3",
   "language": "python",
   "name": "python3"
  },
  "language_info": {
   "codemirror_mode": {
    "name": "ipython",
    "version": 3
   },
   "file_extension": ".py",
   "mimetype": "text/x-python",
   "name": "python",
   "nbconvert_exporter": "python",
   "pygments_lexer": "ipython3",
   "version": "3.7.8"
  },
  "orig_nbformat": 4,
  "vscode": {
   "interpreter": {
    "hash": "7b416c2d66c1a5137cd62d6d13406ca3791127b98c2ab7751c9f9871dab6492b"
   }
  }
 },
 "nbformat": 4,
 "nbformat_minor": 2
}
