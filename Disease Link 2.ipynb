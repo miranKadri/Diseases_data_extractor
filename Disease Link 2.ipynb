{
 "cells": [
  {
   "cell_type": "code",
   "execution_count": 6,
   "metadata": {
    "collapsed": true
   },
   "outputs": [],
   "source": [
    "from selenium import webdriver\n",
    "from selenium.webdriver.support.ui import WebDriverWait\n",
    "from selenium.webdriver.common.by import By\n",
    "from selenium.webdriver.support import expected_conditions as EC\n",
    "\n",
    "import warnings\n",
    "warnings.filterwarnings(\"ignore\")"
   ]
  },
  {
   "cell_type": "code",
   "execution_count": 7,
   "metadata": {
    "collapsed": false
   },
   "outputs": [],
   "source": [
    "driver = webdriver.Chrome(executable_path=r\"chromedriver.exe\")\n",
    "driver.get(\"https://caringforkids.cps.ca/handouts/health-conditions-and-treatments\")"
   ]
  },
  {
   "cell_type": "code",
   "execution_count": 8,
   "metadata": {
    "collapsed": false
   },
   "outputs": [
    {
     "name": "stdout",
     "output_type": "stream",
     "text": [
      "58\n",
      "58\n"
     ]
    }
   ],
   "source": [
    "MainDiv = driver.find_element(\"xpath\",'//*[@id=\"content\"]/div/section/div/div[2]/div')\n",
    "links = MainDiv.find_elements(\"tag name\",\"a\")\n",
    "\n",
    "LinkList = []\n",
    "DiseaseList = []\n",
    "for i in links:\n",
    "    if i.get_attribute(\"href\") is not None:\n",
    "        LinkList.append(i.get_attribute(\"href\"))\n",
    "        DiseaseList.append(i.text)\n",
    "\n",
    "print(len(LinkList))\n",
    "print(len(DiseaseList))"
   ]
  },
  {
   "cell_type": "code",
   "execution_count": 9,
   "metadata": {
    "collapsed": false
   },
   "outputs": [
    {
     "name": "stdout",
     "output_type": "stream",
     "text": [
      "0 1 2 3 4 5 6 7 8 9 10 11 12 13 14 15 16 17 18 19 20 21 22 23 24 25 26 27 28 29 30 31 32 33 34 35 36 37 38 39 40 41 42 43 44 45 46 47 48 49 50 51 52 53 54 55 56 57 "
     ]
    }
   ],
   "source": [
    "DiseaseNameList = []\n",
    "DiseaseDescriptionList = []\n",
    "\n",
    "for i in range(len(LinkList)):\n",
    "    print(i, end=\" \")\n",
    "    driver.execute_script(\"window.open('');\")\n",
    "    driver.switch_to.window(driver.window_handles[-1])\n",
    "    driver.get(LinkList[i])\n",
    "    WebDriverWait(driver, 100).until(EC.presence_of_element_located((By.CLASS_NAME, 'logo')))\n",
    "\n",
    "    try:\n",
    "        Data = driver.find_element(\"xpath\",'//*[@id=\"content\"]/div/section/div/div[2]/div/article')\n",
    "        DiseaseNameList.append(DiseaseList[i])\n",
    "        DiseaseDescriptionList.append(Data.text)\n",
    "    except:\n",
    "        print(\"*\", end=\" \")\n",
    "\n",
    "    driver.close()\n",
    "    driver.switch_to.window(driver.window_handles[0])\n",
    "\n",
    "import pandas as pd\n",
    "df = pd.DataFrame({'DiseaseName': DiseaseNameList, 'DiseaseDescription': DiseaseDescriptionList})\n",
    "df.to_csv('DiseaseList2.csv', index=False, encoding='utf-8')"
   ]
  },
  {
   "cell_type": "code",
   "execution_count": 10,
   "metadata": {
    "collapsed": false
   },
   "outputs": [
    {
     "data": {
      "text/html": [
       "<div>\n",
       "<style scoped>\n",
       "    .dataframe tbody tr th:only-of-type {\n",
       "        vertical-align: middle;\n",
       "    }\n",
       "\n",
       "    .dataframe tbody tr th {\n",
       "        vertical-align: top;\n",
       "    }\n",
       "\n",
       "    .dataframe thead th {\n",
       "        text-align: right;\n",
       "    }\n",
       "</style>\n",
       "<table border=\"1\" class=\"dataframe\">\n",
       "  <thead>\n",
       "    <tr style=\"text-align: right;\">\n",
       "      <th></th>\n",
       "      <th>DiseaseName</th>\n",
       "      <th>DiseaseDescription</th>\n",
       "    </tr>\n",
       "  </thead>\n",
       "  <tbody>\n",
       "    <tr>\n",
       "      <th>0</th>\n",
       "      <td>Celiac disease and your child</td>\n",
       "      <td>Celiac disease and your child\\nWhat is celiac ...</td>\n",
       "    </tr>\n",
       "    <tr>\n",
       "      <th>1</th>\n",
       "      <td>Type 1 diabetes and COVID-19</td>\n",
       "      <td>Type 1 diabetes and COVID-19\\nIf you have a ch...</td>\n",
       "    </tr>\n",
       "    <tr>\n",
       "      <th>2</th>\n",
       "      <td>Type 1 diabetes in school</td>\n",
       "      <td>Type 1 diabetes in school\\nType 1 diabetes is ...</td>\n",
       "    </tr>\n",
       "    <tr>\n",
       "      <th>3</th>\n",
       "      <td>COVID-19 and your child</td>\n",
       "      <td>COVID-19 and your child\\nCOVID-19 is an illnes...</td>\n",
       "    </tr>\n",
       "    <tr>\n",
       "      <th>4</th>\n",
       "      <td>Colds in children</td>\n",
       "      <td>Colds in children\\nThe ‘common cold’ is caused...</td>\n",
       "    </tr>\n",
       "  </tbody>\n",
       "</table>\n",
       "</div>"
      ],
      "text/plain": [
       "                     DiseaseName  \\\n",
       "0  Celiac disease and your child   \n",
       "1   Type 1 diabetes and COVID-19   \n",
       "2      Type 1 diabetes in school   \n",
       "3        COVID-19 and your child   \n",
       "4              Colds in children   \n",
       "\n",
       "                                  DiseaseDescription  \n",
       "0  Celiac disease and your child\\nWhat is celiac ...  \n",
       "1  Type 1 diabetes and COVID-19\\nIf you have a ch...  \n",
       "2  Type 1 diabetes in school\\nType 1 diabetes is ...  \n",
       "3  COVID-19 and your child\\nCOVID-19 is an illnes...  \n",
       "4  Colds in children\\nThe ‘common cold’ is caused...  "
      ]
     },
     "execution_count": 10,
     "metadata": {},
     "output_type": "execute_result"
    }
   ],
   "source": [
    "df = pd.read_csv(\"DiseaseList2.csv\")\n",
    "df.head()"
   ]
  },
  {
   "cell_type": "code",
   "execution_count": 11,
   "metadata": {
    "collapsed": false
   },
   "outputs": [],
   "source": []
  },
  {
   "cell_type": "code",
   "execution_count": null,
   "metadata": {
    "collapsed": false
   },
   "outputs": [],
   "source": []
  }
 ],
 "metadata": {
  "kernelspec": {
   "display_name": "Python 3",
   "language": "python",
   "name": "python3"
  },
  "language_info": {
   "codemirror_mode": {
    "name": "ipython",
    "version": 2
   },
   "file_extension": ".py",
   "mimetype": "text/x-python",
   "name": "python",
   "nbconvert_exporter": "python",
   "pygments_lexer": "ipython2",
   "version": "3.7.8"
  },
  "vscode": {
   "interpreter": {
    "hash": "7b416c2d66c1a5137cd62d6d13406ca3791127b98c2ab7751c9f9871dab6492b"
   }
  }
 },
 "nbformat": 4,
 "nbformat_minor": 0
}
