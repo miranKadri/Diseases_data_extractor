{
 "cells": [
  {
   "cell_type": "code",
   "execution_count": 1,
   "metadata": {},
   "outputs": [],
   "source": [
    "from selenium import webdriver\n",
    "from selenium.webdriver.support.ui import WebDriverWait\n",
    "from selenium.webdriver.common.by import By\n",
    "from selenium.webdriver.support import expected_conditions as EC\n",
    "import re\n",
    "import json\n",
    "import warnings \n",
    "warnings.filterwarnings(\"ignore\")"
   ]
  },
  {
   "cell_type": "code",
   "execution_count": 2,
   "metadata": {},
   "outputs": [],
   "source": [
    "driver = webdriver.Chrome(executable_path=r\"chromedriver.exe\")\n",
    "base_link = 'https://www.drugs.com/'\n",
    "driver.get(base_link + 'drug_information.html')"
   ]
  },
  {
   "cell_type": "code",
   "execution_count": 7,
   "metadata": {},
   "outputs": [],
   "source": [
    "drug_names = driver.find_elements_by_xpath('//*[@id=\"content\"]/div/ul[2]')\n",
    "drug_list = []\n",
    "for drug in drug_names:\n",
    "    # print(drug.text)\n",
    "    drug_list = (drug.text.split('\\n'))\n",
    "   "
   ]
  },
  {
   "cell_type": "code",
   "execution_count": 15,
   "metadata": {},
   "outputs": [
    {
     "name": "stdout",
     "output_type": "stream",
     "text": [
      "[{'drug_name': 'Acetaminophen', 'avoid_if': ['Adults and teenagers at least 12 years old: Do not take more than 1000 milligrams (mg) at one time or more than 4000 mg in 24 hours.', \"Children younger than 12 years old: Do not take more than 5 doses of children's formula acetaminophen in 24 hours.\"], 'side_effects': ['you still have a sore throat after 2 days of use;', 'you still have a fever after 3 days of use;', 'you still have pain after 7 days of use (or 5 days if treating a child);', 'you have a skin rash, ongoing headache, nausea, vomiting, redness or swelling; or', 'your symptoms get worse, or if you have any new symptoms.'], 'usual_dose': ['Stop taking this medicine and call your doctor if:']}, {'drug_name': 'Adderall', 'avoid_if': ['heart problems or a congenital heart defect;', 'high blood pressure; or', 'a family history of heart disease or sudden death.'], 'side_effects': ['depression, anxiety, mental illness, bipolar disorder, psychosis, problems with aggression, or suicidal thoughts or actions;', \"motor tics (muscle twitches) or Tourette's syndrome;\", 'seizures or epilepsy;', 'an abnormal brain wave test (EEG); or', 'liver or kidney disease; or', 'blood circulation problems in the hands or feet.'], 'usual_dose': ['Store at room temperature away from moisture, heat, and light.']}, {'drug_name': 'Amitriptyline', 'avoid_if': ['bipolar disorder (manic-depression) or schizophrenia;', 'mental illness or psychosis;', 'liver disease;', 'heart disease;', 'a heart attack, stroke, or seizures;', 'diabetes (amitriptyline may raise or lower blood sugar);', 'glaucoma; or', 'problems with urination.'], 'side_effects': ['signs of a blood clot - sudden numbness or weakness, problems with vision or speech, swelling or redness in an arm or leg;', 'unusual thoughts or behavior;', 'a light-headed feeling, like you might pass out;', 'chest pain or pressure, pain spreading to your jaw or shoulder, nausea, sweating;', 'pounding heartbeats or fluttering in your chest;', 'confusion, hallucinations;', 'a seizure (convulsions);', 'painful or difficult urination;', 'severe constipation;', 'easy bruising, unusual bleeding; or', 'fever, chills, sore throat, mouth sores.'], 'usual_dose': ['Take the medicine as soon as you can, but skip the missed dose if it is almost time for your next dose. Do not take two doses at one time.']}, {'drug_name': 'Amlodipine', 'avoid_if': ['pounding heartbeats or fluttering in your chest;', 'worsening chest pain;', 'swelling in your feet or ankles;', 'severe drowsiness; or', 'a light-headed feeling, like you might pass out.'], 'side_effects': ['dizziness;', 'drowsiness;', 'feeling tired;', 'stomach pain;', 'nausea;', 'flushing (warmth, redness, or tingly feeling).'], 'usual_dose': ['Get emergency medical help if you have signs of an allergic reaction to amlodipine: hives; difficulty breathing; swelling of your face, lips, tongue, or throat.']}, {'drug_name': 'Amoxicillin', 'avoid_if': ['severe stomach pain; or', 'diarrhea that is watery or bloody (even if it occurs months after your last dose).'], 'side_effects': ['nausea, vomiting, diarrhea; or', 'rash.'], 'usual_dose': ['You may store liquid amoxicillin in a refrigerator but do not allow it to freeze. Throw away any liquid mediicne that is not used within 14 days after it was mixed at the pharmacy.']}]\n"
     ]
    }
   ],
   "source": [
    "dd = []\n",
    "for drug_name in drug_list[:5]:\n",
    "    dic = {}\n",
    "    driver.get(base_link + drug_name + '.html')\n",
    "    avoid_if = driver.find_element_by_xpath('//*[@id=\"content\"]/div/ul[2]')\n",
    "    dic['drug_name'] = drug_name\n",
    "    dic['avoid_if'] = avoid_if.text.split('\\n')\n",
    "    side_effs = driver.find_element_by_xpath('//*[@id=\"content\"]/div/ul[3]')\n",
    "    dic['side_effects'] = side_effs.text.split('\\n')\n",
    "    usual_dose = driver.find_element_by_xpath('//*[@id=\"content\"]/div/p[28]')\n",
    "    dic['usual_dose'] = usual_dose.text.split('\\n')\n",
    "    dd.append(dic)\n",
    "print(dd)        "
   ]
  },
  {
   "cell_type": "code",
   "execution_count": 2,
   "metadata": {},
   "outputs": [],
   "source": [
    "import pandas as pd\n",
    "import json\n",
    "\n",
    "# Load the JSON data from a file\n",
    "with open('drugs.json') as f:\n",
    "    data = json.load(f)\n",
    "\n",
    "# Normalize the data and create a DataFrame\n",
    "df = pd.json_normalize(data)"
   ]
  },
  {
   "cell_type": "code",
   "execution_count": 3,
   "metadata": {},
   "outputs": [
    {
     "data": {
      "text/html": [
       "<div>\n",
       "<style scoped>\n",
       "    .dataframe tbody tr th:only-of-type {\n",
       "        vertical-align: middle;\n",
       "    }\n",
       "\n",
       "    .dataframe tbody tr th {\n",
       "        vertical-align: top;\n",
       "    }\n",
       "\n",
       "    .dataframe thead th {\n",
       "        text-align: right;\n",
       "    }\n",
       "</style>\n",
       "<table border=\"1\" class=\"dataframe\">\n",
       "  <thead>\n",
       "    <tr style=\"text-align: right;\">\n",
       "      <th></th>\n",
       "      <th>information</th>\n",
       "      <th>drug_name</th>\n",
       "      <th>avoid_if</th>\n",
       "      <th>side_effects</th>\n",
       "      <th>usual_dose</th>\n",
       "    </tr>\n",
       "  </thead>\n",
       "  <tbody>\n",
       "    <tr>\n",
       "      <th>0</th>\n",
       "      <td>[Acetaminophen is a pain reliever and a fever ...</td>\n",
       "      <td>Acetaminophen</td>\n",
       "      <td>[Adults and teenagers at least 12 years old: D...</td>\n",
       "      <td>[you still have a sore throat after 2 days of ...</td>\n",
       "      <td>[Stop taking this medicine and call your docto...</td>\n",
       "    </tr>\n",
       "    <tr>\n",
       "      <th>1</th>\n",
       "      <td>[Adderall is used to treat attention deficit h...</td>\n",
       "      <td>Adderall</td>\n",
       "      <td>[heart problems or a congenital heart defect;,...</td>\n",
       "      <td>[depression, anxiety, mental illness, bipolar ...</td>\n",
       "      <td>[Store at room temperature away from moisture,...</td>\n",
       "    </tr>\n",
       "    <tr>\n",
       "      <th>2</th>\n",
       "      <td>[Amitriptyline is a tricyclic antidepressant w...</td>\n",
       "      <td>Amitriptyline</td>\n",
       "      <td>[bipolar disorder (manic-depression) or schizo...</td>\n",
       "      <td>[signs of a blood clot - sudden numbness or we...</td>\n",
       "      <td>[Take the medicine as soon as you can, but ski...</td>\n",
       "    </tr>\n",
       "    <tr>\n",
       "      <th>3</th>\n",
       "      <td>[Amlodipine is used to treat high blood pressu...</td>\n",
       "      <td>Amlodipine</td>\n",
       "      <td>[pounding heartbeats or fluttering in your che...</td>\n",
       "      <td>[dizziness;, drowsiness;, feeling tired;, stom...</td>\n",
       "      <td>[Get emergency medical help if you have signs ...</td>\n",
       "    </tr>\n",
       "    <tr>\n",
       "      <th>4</th>\n",
       "      <td>[Amoxicillin is a penicillin antibiotic that f...</td>\n",
       "      <td>Amoxicillin</td>\n",
       "      <td>[severe stomach pain; or, diarrhea that is wat...</td>\n",
       "      <td>[nausea, vomiting, diarrhea; or, rash.]</td>\n",
       "      <td>[You may store liquid amoxicillin in a refrige...</td>\n",
       "    </tr>\n",
       "  </tbody>\n",
       "</table>\n",
       "</div>"
      ],
      "text/plain": [
       "                                         information      drug_name  \\\n",
       "0  [Acetaminophen is a pain reliever and a fever ...  Acetaminophen   \n",
       "1  [Adderall is used to treat attention deficit h...       Adderall   \n",
       "2  [Amitriptyline is a tricyclic antidepressant w...  Amitriptyline   \n",
       "3  [Amlodipine is used to treat high blood pressu...     Amlodipine   \n",
       "4  [Amoxicillin is a penicillin antibiotic that f...    Amoxicillin   \n",
       "\n",
       "                                            avoid_if  \\\n",
       "0  [Adults and teenagers at least 12 years old: D...   \n",
       "1  [heart problems or a congenital heart defect;,...   \n",
       "2  [bipolar disorder (manic-depression) or schizo...   \n",
       "3  [pounding heartbeats or fluttering in your che...   \n",
       "4  [severe stomach pain; or, diarrhea that is wat...   \n",
       "\n",
       "                                        side_effects  \\\n",
       "0  [you still have a sore throat after 2 days of ...   \n",
       "1  [depression, anxiety, mental illness, bipolar ...   \n",
       "2  [signs of a blood clot - sudden numbness or we...   \n",
       "3  [dizziness;, drowsiness;, feeling tired;, stom...   \n",
       "4            [nausea, vomiting, diarrhea; or, rash.]   \n",
       "\n",
       "                                          usual_dose  \n",
       "0  [Stop taking this medicine and call your docto...  \n",
       "1  [Store at room temperature away from moisture,...  \n",
       "2  [Take the medicine as soon as you can, but ski...  \n",
       "3  [Get emergency medical help if you have signs ...  \n",
       "4  [You may store liquid amoxicillin in a refrige...  "
      ]
     },
     "execution_count": 3,
     "metadata": {},
     "output_type": "execute_result"
    }
   ],
   "source": [
    "df.head()"
   ]
  },
  {
   "cell_type": "code",
   "execution_count": 18,
   "metadata": {},
   "outputs": [],
   "source": [
    "df.to_csv('drugs.csv')"
   ]
  },
  {
   "cell_type": "code",
   "execution_count": 4,
   "metadata": {},
   "outputs": [],
   "source": [
    "import pandas as pd\n",
    "\n",
    "\n",
    "# Load the JSON data from a file\n",
    "with open('diseases.json') as f:\n",
    "    dat = json.load(f)\n",
    "\n",
    "# Normalize the data and create a DataFrame\n",
    "df1 = pd.json_normalize(dat)"
   ]
  },
  {
   "cell_type": "code",
   "execution_count": 5,
   "metadata": {},
   "outputs": [
    {
     "data": {
      "text/html": [
       "<div>\n",
       "<style scoped>\n",
       "    .dataframe tbody tr th:only-of-type {\n",
       "        vertical-align: middle;\n",
       "    }\n",
       "\n",
       "    .dataframe tbody tr th {\n",
       "        vertical-align: top;\n",
       "    }\n",
       "\n",
       "    .dataframe thead th {\n",
       "        text-align: right;\n",
       "    }\n",
       "</style>\n",
       "<table border=\"1\" class=\"dataframe\">\n",
       "  <thead>\n",
       "    <tr style=\"text-align: right;\">\n",
       "      <th></th>\n",
       "      <th>symptom</th>\n",
       "      <th>disease</th>\n",
       "      <th>treatment_drug</th>\n",
       "      <th>emergency_condition</th>\n",
       "      <th>treatment_drugs</th>\n",
       "    </tr>\n",
       "  </thead>\n",
       "  <tbody>\n",
       "    <tr>\n",
       "      <th>0</th>\n",
       "      <td>[Severe, crampy abdominal pain, Nausea and vom...</td>\n",
       "      <td>abdominal-adhesions</td>\n",
       "      <td></td>\n",
       "      <td></td>\n",
       "      <td>NaN</td>\n",
       "    </tr>\n",
       "    <tr>\n",
       "      <th>1</th>\n",
       "      <td>[Pain in the:, Abdomen, Back, Fleshy part of t...</td>\n",
       "      <td>abdominal-aortic-aneurysm</td>\n",
       "      <td>NaN</td>\n",
       "      <td>[3.0 to 3.9 centimeters, imaging every three y...</td>\n",
       "      <td>[Monitor your blood sugar frequently, Follow a...</td>\n",
       "    </tr>\n",
       "    <tr>\n",
       "      <th>2</th>\n",
       "      <td>[Abdominal aorta and other blood vessels in th...</td>\n",
       "      <td>abdominal-ultrasound</td>\n",
       "      <td></td>\n",
       "      <td></td>\n",
       "      <td>NaN</td>\n",
       "    </tr>\n",
       "    <tr>\n",
       "      <th>3</th>\n",
       "      <td>[Difficulty swallowing solid food. Swallowing ...</td>\n",
       "      <td>achalasia</td>\n",
       "      <td>NaN</td>\n",
       "      <td>[Your general condition, Your doctor's experti...</td>\n",
       "      <td>[Manometry. Manometry is a key test in diagnos...</td>\n",
       "    </tr>\n",
       "    <tr>\n",
       "      <th>4</th>\n",
       "      <td>[Oily cosmetics , Humidity , Heavy sweating , ...</td>\n",
       "      <td>acne</td>\n",
       "      <td>NaN</td>\n",
       "      <td>[Menstrual history , Patterns of hair growth ,...</td>\n",
       "      <td>[Nodules and cysts. These are larger infection...</td>\n",
       "    </tr>\n",
       "  </tbody>\n",
       "</table>\n",
       "</div>"
      ],
      "text/plain": [
       "                                             symptom  \\\n",
       "0  [Severe, crampy abdominal pain, Nausea and vom...   \n",
       "1  [Pain in the:, Abdomen, Back, Fleshy part of t...   \n",
       "2  [Abdominal aorta and other blood vessels in th...   \n",
       "3  [Difficulty swallowing solid food. Swallowing ...   \n",
       "4  [Oily cosmetics , Humidity , Heavy sweating , ...   \n",
       "\n",
       "                     disease treatment_drug  \\\n",
       "0        abdominal-adhesions                  \n",
       "1  abdominal-aortic-aneurysm            NaN   \n",
       "2       abdominal-ultrasound                  \n",
       "3                  achalasia            NaN   \n",
       "4                       acne            NaN   \n",
       "\n",
       "                                 emergency_condition  \\\n",
       "0                                                      \n",
       "1  [3.0 to 3.9 centimeters, imaging every three y...   \n",
       "2                                                      \n",
       "3  [Your general condition, Your doctor's experti...   \n",
       "4  [Menstrual history , Patterns of hair growth ,...   \n",
       "\n",
       "                                     treatment_drugs  \n",
       "0                                                NaN  \n",
       "1  [Monitor your blood sugar frequently, Follow a...  \n",
       "2                                                NaN  \n",
       "3  [Manometry. Manometry is a key test in diagnos...  \n",
       "4  [Nodules and cysts. These are larger infection...  "
      ]
     },
     "execution_count": 5,
     "metadata": {},
     "output_type": "execute_result"
    }
   ],
   "source": [
    "df1.head()"
   ]
  },
  {
   "cell_type": "code",
   "execution_count": 21,
   "metadata": {},
   "outputs": [],
   "source": [
    "df1.to_csv('diseases.csv')"
   ]
  },
  {
   "cell_type": "code",
   "execution_count": null,
   "metadata": {},
   "outputs": [],
   "source": []
  }
 ],
 "metadata": {
  "kernelspec": {
   "display_name": "Python 3",
   "language": "python",
   "name": "python3"
  },
  "language_info": {
   "codemirror_mode": {
    "name": "ipython",
    "version": 3
   },
   "file_extension": ".py",
   "mimetype": "text/x-python",
   "name": "python",
   "nbconvert_exporter": "python",
   "pygments_lexer": "ipython3",
   "version": "3.7.8"
  },
  "orig_nbformat": 4
 },
 "nbformat": 4,
 "nbformat_minor": 2
}
